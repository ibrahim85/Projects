{
 "cells": [
  {
   "cell_type": "markdown",
   "metadata": {},
   "source": [
    "### Get Faces from Flickr based on Geolocation\n",
    "This notebook does the following:\n",
    "- Gets images for the locations specified below\n",
    "- Saves the images temporary in temp directory specified below\n",
    "- Uses Dlib to filter images with faces\n",
    "- Stores the filtered images in processed directory\n",
    "- A directory of images is created for each of the locations"
   ]
  },
  {
   "cell_type": "code",
   "execution_count": null,
   "metadata": {},
   "outputs": [],
   "source": [
    "Locations = {'flatIronBuilding' : [40.741109, -73.989484], \n",
    "'woldTradecenter' : [40.711702, -74.012722],\n",
    "'brooklynBridge' : [40.705720, -73.996349]}\n",
    "\n",
    "TEMP_DIR = 'temp/'\n",
    "PROCESSED_DIR = 'processed/'"
   ]
  },
  {
   "cell_type": "code",
   "execution_count": null,
   "metadata": {},
   "outputs": [],
   "source": [
    "import cv2\n",
    "import urllib\n",
    "import shutil\n",
    "import os\n",
    "import dlib\n",
    "\n",
    "from flickrapi import FlickrAPI"
   ]
  },
  {
   "cell_type": "code",
   "execution_count": null,
   "metadata": {},
   "outputs": [],
   "source": [
    "FLICKR_PUBLIC = ''\n",
    "FLICKR_SECRET = ''"
   ]
  },
  {
   "cell_type": "code",
   "execution_count": null,
   "metadata": {},
   "outputs": [],
   "source": [
    "flickr = FlickrAPI(FLICKR_PUBLIC, FLICKR_SECRET, format='parsed-json')"
   ]
  },
  {
   "cell_type": "code",
   "execution_count": null,
   "metadata": {},
   "outputs": [],
   "source": [
    "def getPhotos(loc):\n",
    "    extras = 'url_c'\n",
    "    data = flickr.photos.search(lat =loc[0],lon=loc[1], radius = 0.5, per_page=500,extras=extras)\n",
    "    photos = data['photos']['photo']\n",
    "    return photos"
   ]
  },
  {
   "cell_type": "code",
   "execution_count": null,
   "metadata": {},
   "outputs": [],
   "source": [
    "def extractFaceImages(locName,loc):\n",
    "    tempDir = TEMP_DIR\n",
    "    processDir = PROCESSED_DIR\n",
    "    targetDir = processDir+locName\n",
    "    if not os.path.exists(targetDir):\n",
    "        os.mkdir(targetDir)\n",
    "    \n",
    "    detector = dlib.get_frontal_face_detector()\n",
    "    \n",
    "    photos = getPhotos(loc)\n",
    "    for p in photos:\n",
    "        if 'url_c' in p:\n",
    "            try :\n",
    "                fname = p['url_c'].split('/')[-1]\n",
    "                print(fname)\n",
    "                urllib.urlretrieve(p['url_c'], tempDir+fname)\n",
    "                img = dlib.load_rgb_image(tempDir+fname)\n",
    "                dets = detector(img, 1)\n",
    "                if len(dets)>0:\n",
    "                    shutil.move(tempDir+fname, targetDir+\"/\"+fname)\n",
    "                else:\n",
    "                    os.remove(tempDir+fname)\n",
    "            except:\n",
    "                pass"
   ]
  },
  {
   "cell_type": "code",
   "execution_count": null,
   "metadata": {},
   "outputs": [],
   "source": [
    "for l in Locations:\n",
    "    extractFaceImages(l,Locations[l])"
   ]
  }
 ],
 "metadata": {
  "kernelspec": {
   "display_name": "Python 2",
   "language": "python",
   "name": "python2"
  },
  "language_info": {
   "codemirror_mode": {
    "name": "ipython",
    "version": 2
   },
   "file_extension": ".py",
   "mimetype": "text/x-python",
   "name": "python",
   "nbconvert_exporter": "python",
   "pygments_lexer": "ipython2",
   "version": "2.7.15"
  }
 },
 "nbformat": 4,
 "nbformat_minor": 2
}
