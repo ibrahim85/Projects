{
 "cells": [
  {
   "cell_type": "code",
   "execution_count": 63,
   "metadata": {},
   "outputs": [],
   "source": [
    "import wikipedia\n",
    "import json"
   ]
  },
  {
   "cell_type": "code",
   "execution_count": 64,
   "metadata": {},
   "outputs": [
    {
     "name": "stdout",
     "output_type": "stream",
     "text": [
      "https://en.wikipedia.org/wiki/Transportation_planning\n",
      "Transportation planning\n"
     ]
    }
   ],
   "source": [
    "p = wikipedia.page(\"Transport Planning\")\n",
    "print(p.url)\n",
    "print(p.title)\n",
    "content = p.content # Content of page."
   ]
  },
  {
   "cell_type": "code",
   "execution_count": 71,
   "metadata": {},
   "outputs": [],
   "source": [
    "# load doc into memory\n",
    "def load_doc(filename):\n",
    "    # open the file as read only\n",
    "    file = open(filename, 'r')\n",
    "    # read all text\n",
    "    text = file.read()\n",
    "    # close the file\n",
    "    file.close()\n",
    "    return text"
   ]
  },
  {
   "cell_type": "code",
   "execution_count": 72,
   "metadata": {},
   "outputs": [],
   "source": [
    "SAGE_FIELDS_FILE = '/home/urwa/Documents/Coleridge/ProjectFiles/train_test/train_test/sage_research_fields.json'\n",
    "SAGE_WIKI_DIR = '/home/urwa/Documents/Coleridge/notebooks/SubsetAnalysis/fieldsWiki/'\n",
    "TEXT_DIRECTORY = '/home/urwa/Documents/Coleridge/ProjectFiles/train_test/train_test/files/text/'"
   ]
  },
  {
   "cell_type": "code",
   "execution_count": 73,
   "metadata": {},
   "outputs": [],
   "source": [
    "text = load_doc(SAGE_FIELDS_FILE)\n",
    "sage_fields_json = json.loads(text)\n",
    "fields = list(sage_fields_json.keys())"
   ]
  },
  {
   "cell_type": "code",
   "execution_count": 85,
   "metadata": {},
   "outputs": [],
   "source": [
    "subFields = []\n",
    "containerField = []\n",
    "for i in range(len(fields)):\n",
    "    f = fields[i]\n",
    "    sf = sage_fields_json[f].keys()\n",
    "    subFields += sf\n",
    "    containerField += [fields[i]] * len(sf)"
   ]
  },
  {
   "cell_type": "code",
   "execution_count": 77,
   "metadata": {},
   "outputs": [
    {
     "data": {
      "text/plain": [
       "150"
      ]
     },
     "execution_count": 77,
     "metadata": {},
     "output_type": "execute_result"
    }
   ],
   "source": [
    "len(containerField)"
   ]
  },
  {
   "cell_type": "code",
   "execution_count": 86,
   "metadata": {},
   "outputs": [
    {
     "data": {
      "text/plain": [
       "['Ecology & Conservation',\n",
       " 'Physical Geography',\n",
       " 'Meteorology',\n",
       " 'Environmental Chemistry, Substances & Processes',\n",
       " 'Human Geography',\n",
       " 'Planning',\n",
       " 'General Geography, Earth & Environmental Science',\n",
       " 'Environmental Sciences',\n",
       " 'Environmental Policy & Law',\n",
       " 'Environmental Health',\n",
       " 'Research Methods for Geography, Earth & Environmental Science',\n",
       " 'General Sociology',\n",
       " 'Sociology of Education',\n",
       " 'Social Research',\n",
       " 'Social Policy',\n",
       " 'Social Change & Transformation',\n",
       " 'Sociology of Work & Labor Studies',\n",
       " 'Sociology of Religion',\n",
       " 'Area Studies',\n",
       " 'Gender & Sexuality',\n",
       " 'Social Sociological Theory',\n",
       " 'Environmental, Urban & Regional Sociology',\n",
       " 'Sociology of Sport & Leisure',\n",
       " 'Sociology of Family',\n",
       " 'Age & the Life Course',\n",
       " 'Anthropology',\n",
       " 'Sociology of Organizations, Institutions & Structure',\n",
       " 'Political Sociology',\n",
       " 'Race, Ethnicity & Migration',\n",
       " 'Crime & Deviance',\n",
       " 'Sociology of Arts & Culture',\n",
       " 'Sociology of Health, Illness & the Body',\n",
       " 'Social Interaction & Everyday Life',\n",
       " 'Social Stratification & Class',\n",
       " 'Leadership',\n",
       " 'Human Resource Management',\n",
       " 'General Business & Management',\n",
       " 'Finance',\n",
       " 'International Business & Management',\n",
       " 'Marketing',\n",
       " 'Economics',\n",
       " 'Business Ethics & Corporate Social Responsibility',\n",
       " 'Operations Management',\n",
       " 'Entrepreneurship',\n",
       " 'Information & Knowledge Management',\n",
       " 'Other Management Specialties',\n",
       " 'Accounting',\n",
       " 'Strategic Management',\n",
       " 'Organization Studies',\n",
       " 'Research Methods for Business & Management',\n",
       " 'General & Applied Psychology',\n",
       " 'Conceptual & Historical Issues in Psychology',\n",
       " 'Research Methods & Data Analysis in Psychology',\n",
       " 'Clinical Abnormal Psychology',\n",
       " 'Cognitive Psychology',\n",
       " 'Personality & Individual Differences',\n",
       " 'Psychology of Aging   Gerontology',\n",
       " 'Lifespan & Developmental Psychology',\n",
       " 'Social Psychology',\n",
       " 'Biological Physiological Psychology',\n",
       " 'Political Theory',\n",
       " 'Research Methods for Politics & International Relations',\n",
       " 'Comparative Politics',\n",
       " 'Public Administration',\n",
       " 'Regional & World Politics',\n",
       " 'International Security',\n",
       " 'European Politics',\n",
       " 'Political Science',\n",
       " 'Political Behavior',\n",
       " 'Strategic & Defense Studies',\n",
       " 'International Relations',\n",
       " 'Public Policy',\n",
       " 'American Government & Politics',\n",
       " 'General Politics & International Relations',\n",
       " 'Public Health',\n",
       " 'Nutrition & Dietetics',\n",
       " 'Social Policy',\n",
       " 'Pharmacy',\n",
       " 'Complementary & Alternative Medicine',\n",
       " 'Diseases & Epidemiology',\n",
       " 'Social Work Practice',\n",
       " 'Maternal & Child Health',\n",
       " 'Radiological & Imaging Technologies',\n",
       " 'Youth Community Work',\n",
       " 'Social Work Skills',\n",
       " 'International Health',\n",
       " 'Community Medicine & Health Care',\n",
       " 'Research Methods for Health & Social Care',\n",
       " 'General Health & Social Care',\n",
       " 'Ethics in Health Care',\n",
       " 'History of Medicine',\n",
       " 'Other Health Specialties',\n",
       " 'Clinical Medicine',\n",
       " 'Podiatry',\n",
       " 'Nursing',\n",
       " 'Social Work Administration',\n",
       " 'Health Services Research',\n",
       " 'Disability & Rehabilitation',\n",
       " 'Physician Assistant',\n",
       " 'Theory & Approaches',\n",
       " 'Counseling Setting   Client Groups',\n",
       " 'Research Methods for Counseling & Psychotherapy',\n",
       " 'Professional Issues',\n",
       " 'General Counseling & Psychotherapy',\n",
       " 'Counseling Skills',\n",
       " 'Types of Crime',\n",
       " 'Policing & Law Enforcement',\n",
       " 'General Criminology & Criminal Justice',\n",
       " 'Corrections Penology',\n",
       " 'Transnational Crime',\n",
       " 'Violence & Violent Crime',\n",
       " 'Criminal Justice',\n",
       " 'Security & Crime',\n",
       " 'Courts',\n",
       " 'Forensic Science & Investigation',\n",
       " 'Research Methods for Criminology & Criminal Justice',\n",
       " 'Criminological Theory',\n",
       " 'Criminology',\n",
       " 'Teaching Diverse Students',\n",
       " 'School Counseling',\n",
       " 'Secondary Education',\n",
       " 'Middle School Education',\n",
       " 'Teacher Assistants Support',\n",
       " 'General Education',\n",
       " 'Staff Development & Professional Learning',\n",
       " 'Classroom Discipline & Organization',\n",
       " 'Learning Theories',\n",
       " 'Gifted & Talented Education',\n",
       " 'School Educational Psychology',\n",
       " 'Teacher Resources',\n",
       " 'Preservice Training',\n",
       " 'Teaching Methods & Learning Styles',\n",
       " 'Elementary Education',\n",
       " 'Higher Education',\n",
       " 'Special & Inclusive Education',\n",
       " 'Curriculum & Content',\n",
       " 'Research Methods for the Social Sciences',\n",
       " 'Student Assessment',\n",
       " 'Educational Administration & Leadership',\n",
       " 'Working with Parents, Families & Communities',\n",
       " 'Early Childhood Education',\n",
       " 'Foundations of Education',\n",
       " 'Research Methods for Education',\n",
       " 'Technology',\n",
       " 'Linguistics',\n",
       " 'Communication Studies',\n",
       " 'General Media, Communication & Cultural Studies',\n",
       " 'Media Studies',\n",
       " 'Popular Culture & Cultural Studies',\n",
       " 'Research Methods for Media, Communication & Cultural Studies']"
      ]
     },
     "execution_count": 86,
     "metadata": {},
     "output_type": "execute_result"
    }
   ],
   "source": [
    "subFields = [s.replace('/',' ') for s in subFields]\n",
    "subFields"
   ]
  },
  {
   "cell_type": "code",
   "execution_count": 124,
   "metadata": {},
   "outputs": [
    {
     "name": "stdout",
     "output_type": "stream",
     "text": [
      "Options:  ['conservation biology', 'Ecology and Society']\n",
      "Ecology & Conservation  :  Conservation biology\n",
      "Physical Geography  :  Physical geography\n",
      "Meteorology  :  Meteorology\n",
      "Environmental Chemistry, Substances & Processes  :  Environmental chemistry\n",
      "Human Geography  :  Human geography\n",
      "Planning  :  Planning\n",
      "General Geography, Earth & Environmental Science  :  Earth science\n",
      "Environmental Sciences  :  Environmental science\n",
      "Environmental Policy & Law  :  Environmental policy\n",
      "Environmental Health  :  Environmental health\n",
      "Research Methods for Geography, Earth & Environmental Science  :  Earth science\n",
      "General Sociology  :  Sociology\n",
      "Sociology of Education  :  Sociology of education\n",
      "Social Research  :  Social research\n",
      "Social Policy  :  Social policy\n",
      "Social Change & Transformation  :  Social change\n",
      "Sociology of Work & Labor Studies  :  Sociology\n",
      "Sociology of Religion  :  Sociology of religion\n",
      "Area Studies  :  Area studies\n",
      "Gender & Sexuality  :  Gender studies\n",
      "Social Sociological Theory  :  Sociological theory\n",
      "Environmental, Urban & Regional Sociology  :  Rural sociology\n",
      "Sociology of Sport & Leisure  :  Sociology of sport\n",
      "Sociology of Family  :  Sociology of the family\n",
      "Age & the Life Course  :  Ice Age: Collision Course\n",
      "Anthropology  :  Anthropology\n",
      "Sociology of Organizations, Institutions & Structure  :  Organizational structure\n",
      "Political Sociology  :  Political sociology\n",
      "Race, Ethnicity & Migration  :  Race and ethnicity in the United States\n",
      "Crime & Deviance  :  Corporate crime\n",
      "Sociology of Arts & Culture  :  Sociology of culture\n",
      "Sociology of Health, Illness & the Body  :  Sociology of health and illness\n",
      "Social Interaction & Everyday Life  :  Everyday life\n",
      "Social Stratification & Class  :  Social stratification\n",
      "Leadership  :  Leadership\n",
      "Human Resource Management  :  Human resource management\n",
      "General Business & Management  :  Management\n",
      "Finance  :  Finance\n",
      "International Business & Management  :  Business process management\n",
      "Marketing  :  Marketing\n",
      "Economics  :  Economics\n",
      "Business Ethics & Corporate Social Responsibility  :  Corporate social responsibility\n",
      "Operations Management  :  Operations management\n",
      "Entrepreneurship  :  Entrepreneurship\n",
      "Information & Knowledge Management  :  Knowledge management\n",
      "Other Management Specialties  :  Specialty (medicine)\n",
      "Accounting  :  Accounting\n",
      "Strategic Management  :  Strategic management\n",
      "Organization Studies  :  Organizational behavior\n",
      "Research Methods for Business & Management  :  Business and management research\n",
      "General & Applied Psychology  :  Applied psychology\n",
      "Conceptual & Historical Issues in Psychology  :  Review of General Psychology\n",
      "Clinical Abnormal Psychology  :  Abnormal psychology\n",
      "Cognitive Psychology  :  Cognitive psychology\n",
      "Personality & Individual Differences  :  Personality and Individual Differences\n",
      "Psychology of Aging   Gerontology  :  Gerontology\n",
      "Lifespan & Developmental Psychology  :  Developmental psychology\n",
      "Social Psychology  :  Social psychology\n",
      "Biological Physiological Psychology  :  Physiological psychology\n",
      "Political Theory  :  Political philosophy\n",
      "Research Methods for Politics & International Relations  :  Political science\n",
      "Comparative Politics  :  Comparative politics\n",
      "Public Administration  :  Public administration\n",
      "Regional & World Politics  :  Regionalism (politics)\n",
      "International Security  :  International security\n",
      "European Politics  :  Politics of Europe\n",
      "Political Science  :  Political science\n",
      "Political Behavior  :  Theories of political behavior\n",
      "Strategic & Defense Studies  :  Strategic studies\n",
      "International Relations  :  International relations\n",
      "Public Policy  :  Public policy\n",
      "American Government & Politics  :  Asian Americans in government and politics\n",
      "General Politics & International Relations  :  International relations theory\n",
      "Public Health  :  Public health\n",
      "Nutrition & Dietetics  :  Academy of Nutrition and Dietetics\n",
      "Social Policy  :  Social policy\n",
      "Pharmacy  :  Pharmacy\n",
      "Complementary & Alternative Medicine  :  Alternative medicine\n",
      "Diseases & Epidemiology  :  Epidemiology\n",
      "Social Work Practice  :  Social work\n",
      "Maternal & Child Health  :  Maternal and Child Health Bureau\n",
      "Radiological & Imaging Technologies  :  Radiology\n",
      "Youth Community Work  :  Youth work\n",
      "Social Work Skills  :  Social skills\n",
      "International Health  :  International health\n",
      "Community Medicine & Health Care  :  Health care in the United States\n",
      "Research Methods for Health & Social Care  :  Health services research\n",
      "General Health & Social Care  :  Department of Health and Social Care\n",
      "Ethics in Health Care  :  Medical ethics\n",
      "History of Medicine  :  History of medicine\n",
      "Other Health Specialties  :  Specialty (medicine)\n",
      "Clinical Medicine  :  Medicine\n",
      "Podiatry  :  Podiatry\n",
      "Nursing  :  Nursing\n",
      "Social Work Administration  :  Social work\n",
      "Health Services Research  :  Health services research\n",
      "Disability & Rehabilitation  :  Disability and Rehabilitation\n",
      "Physician Assistant  :  Physician assistant\n",
      "Theory & Approaches  :  Literary theory\n",
      "Research Methods for Counseling & Psychotherapy  :  Psychotherapy\n",
      "Professional Issues  :  Issues (Issues album)\n",
      "General Counseling & Psychotherapy  :  British Association for Counselling and Psychotherapy\n",
      "Counseling Skills  :  Counseling psychology\n",
      "Types of Crime  :  Crime\n",
      "Policing & Law Enforcement  :  Law enforcement in the United States\n",
      "General Criminology & Criminal Justice  :  Criminal justice\n",
      "Corrections Penology  :  Penology\n",
      "Transnational Crime  :  Transnational crime\n",
      "Violence & Violent Crime  :  Violent crime\n",
      "Criminal Justice  :  Criminal justice\n",
      "Security & Crime  :  CRIME\n",
      "Courts  :  Court\n",
      "Forensic Science & Investigation  :  Forensic science\n",
      "Research Methods for Criminology & Criminal Justice  :  Feminist school of criminology\n",
      "Criminological Theory  :  Criminology\n",
      "Criminology  :  Criminology\n",
      "School Counseling  :  School counselor\n",
      "Secondary Education  :  Secondary education\n",
      "Middle School Education  :  Middle school\n",
      "Options:  ['Secondary education', 'curriculum', 'General Education (film)']\n",
      "General Education  :  Secondary education\n",
      "Staff Development & Professional Learning  :  Professional development\n",
      "Classroom Discipline & Organization  :  School discipline\n",
      "Learning Theories  :  Learning theory (education)\n",
      "Gifted & Talented Education  :  Gifted education\n",
      "School Educational Psychology  :  Educational psychology\n",
      "Teacher Resources  :  Teacher\n",
      "Teaching Methods & Learning Styles  :  Teaching method\n",
      "Elementary Education  :  Primary education\n",
      "Higher Education  :  Higher education\n",
      "Special & Inclusive Education  :  Inclusion (education)\n",
      "Curriculum & Content  :  Curriculum\n",
      "Research Methods for the Social Sciences  :  Social statistics\n",
      "Student Assessment  :  Programme for International Student Assessment\n",
      "Educational Administration & Leadership  :  Educational Management Administration & Leadership\n",
      "Working with Parents, Families & Communities  :  Working parent\n",
      "Early Childhood Education  :  Early childhood education\n",
      "Foundations of Education  :  History of education in the United States\n",
      "Research Methods for Education  :  Educational research\n",
      "Technology  :  Technology\n",
      "Linguistics  :  Linguistics\n",
      "Communication Studies  :  Communication studies\n",
      "General Media, Communication & Cultural Studies  :  Communication studies\n",
      "Media Studies  :  Media studies\n",
      "Popular Culture & Cultural Studies  :  Popular culture studies\n",
      "Research Methods for Media, Communication & Cultural Studies  :  Media studies\n"
     ]
    }
   ],
   "source": [
    "missing = []\n",
    "for i in range(len(subFields)):\n",
    "    sf = subFields[i]\n",
    "    try:\n",
    "        p = wikipedia.page(sf)\n",
    "    except wikipedia.exceptions.DisambiguationError as e:\n",
    "        print ('Options: ',e.options)\n",
    "        p = wikipedia.page(e.options[0])\n",
    "    except wikipedia.exceptions.PageError as e:\n",
    "        missing.append(sf)\n",
    "        continue\n",
    "    data = p.content\n",
    "    cleanedsf = \" \".join(clean_doc(sf))\n",
    "    cleanedcf = \" \".join(clean_doc(containerField[i]))\n",
    "    data += \" \" + ' '.join([cleanedcf] * 30)\n",
    "    data += \" \" + ' '.join([cleanedsf] * 60)\n",
    "    \n",
    "    filename = sf+'.txt'\n",
    "    file = open(SAGE_WIKI_DIR+filename, 'w')\n",
    "    file.write(data)\n",
    "    file.close()\n",
    "    print(sf,\" : \",p.title)"
   ]
  },
  {
   "cell_type": "code",
   "execution_count": 84,
   "metadata": {},
   "outputs": [
    {
     "data": {
      "text/plain": [
       "['Ecology & Conservation',\n",
       " 'Ecology & Conservation',\n",
       " 'Ecology & Conservation',\n",
       " 'Ecology & Conservation',\n",
       " 'Ecology & Conservation']"
      ]
     },
     "execution_count": 84,
     "metadata": {},
     "output_type": "execute_result"
    }
   ],
   "source": [
    "[]+[subFields[0]]*5"
   ]
  },
  {
   "cell_type": "code",
   "execution_count": 125,
   "metadata": {},
   "outputs": [
    {
     "data": {
      "text/plain": [
       "['Research Methods & Data Analysis in Psychology',\n",
       " 'Counseling Setting   Client Groups',\n",
       " 'Teaching Diverse Students',\n",
       " 'Teacher Assistants Support',\n",
       " 'Preservice Training']"
      ]
     },
     "execution_count": 125,
     "metadata": {},
     "output_type": "execute_result"
    }
   ],
   "source": [
    "missing"
   ]
  },
  {
   "cell_type": "code",
   "execution_count": 107,
   "metadata": {},
   "outputs": [
    {
     "ename": "KeyError",
     "evalue": "'Nursing'",
     "output_type": "error",
     "traceback": [
      "\u001b[0;31m---------------------------------------------------------------------------\u001b[0m",
      "\u001b[0;31mKeyError\u001b[0m                                  Traceback (most recent call last)",
      "\u001b[0;32m<ipython-input-107-35fb6d2df590>\u001b[0m in \u001b[0;36m<module>\u001b[0;34m\u001b[0m\n\u001b[0;32m----> 1\u001b[0;31m \u001b[0msage_fields_json\u001b[0m\u001b[0;34m[\u001b[0m\u001b[0mfields\u001b[0m\u001b[0;34m[\u001b[0m\u001b[0;36m0\u001b[0m\u001b[0;34m]\u001b[0m\u001b[0;34m]\u001b[0m\u001b[0;34m[\u001b[0m\u001b[0;34m'Ecology & Conservation'\u001b[0m\u001b[0;34m]\u001b[0m\u001b[0;34m\u001b[0m\u001b[0m\n\u001b[0m",
      "\u001b[0;31mKeyError\u001b[0m: 'Nursing'"
     ]
    }
   ],
   "source": [
    "sage_fields_json[fields[0]]['Ecology & Conservation']"
   ]
  },
  {
   "cell_type": "code",
   "execution_count": 126,
   "metadata": {},
   "outputs": [],
   "source": [
    "files = ['315.txt',\n",
    " '1149.txt',\n",
    " '1492.txt',\n",
    " '1579.txt',\n",
    " '1737.txt',\n",
    " '1905.txt',\n",
    " '2009.txt',\n",
    " '2327.txt',\n",
    " '2573.txt',\n",
    " '2970.txt',\n",
    " '3343.txt',\n",
    " '3579.txt',\n",
    " '4014.txt',\n",
    " '5148.txt',\n",
    " '5400.txt']"
   ]
  },
  {
   "cell_type": "code",
   "execution_count": 127,
   "metadata": {},
   "outputs": [],
   "source": [
    "from string import punctuation\n",
    "from os import listdir\n",
    "from collections import Counter\n",
    "from nltk.corpus import stopwords\n",
    "import string\n",
    "import json\n",
    "import numpy as np\n",
    "import pandas as pd\n",
    "from sklearn.metrics.pairwise import cosine_similarity\n",
    "import random\n",
    "import os\n",
    "from sklearn.feature_extraction.text import TfidfVectorizer"
   ]
  },
  {
   "cell_type": "code",
   "execution_count": 128,
   "metadata": {},
   "outputs": [],
   "source": [
    "# turn a doc into clean tokens\n",
    "def clean_doc(doc):\n",
    "    #\n",
    "    doc = doc.replace('(general)','')\n",
    "    \n",
    "    # split into tokens by white space\n",
    "    tokens = doc.split()\n",
    "    \n",
    "    # remove punctuation from each token\n",
    "    table = str.maketrans('', '', string.punctuation)\n",
    "    tokens = [w.translate(table) for w in tokens]\n",
    "    \n",
    "    # remove remaining tokens that are not alphabetic\n",
    "    tokens = [word for word in tokens if word.isalpha()]\n",
    "    \n",
    "    # make lower case\n",
    "    tokens = [word.lower() for word in tokens]\n",
    "    \n",
    "    # filter out stop words\n",
    "    stop_words = set(stopwords.words('english'))\n",
    "    tokens = [w for w in tokens if not w in stop_words]\n",
    "    \n",
    "    # filter special words\n",
    "    special_words = ['fieldaltlabel','fieldid','fieldlabel']\n",
    "    tokens = [w for w in tokens if not w in special_words]\n",
    "    \n",
    "    # filter out short tokens\n",
    "    tokens = [word for word in tokens if len(word) > 1]\n",
    "    return tokens"
   ]
  },
  {
   "cell_type": "code",
   "execution_count": 129,
   "metadata": {},
   "outputs": [],
   "source": [
    "# load doc and add to vocab\n",
    "def add_doc_to_vocab(filename, vocab):\n",
    "\t# load doc\n",
    "\tdoc = load_doc(filename)\n",
    "\t# clean doc\n",
    "\ttokens = clean_doc(doc)\n",
    "\t# update counts\n",
    "\tvocab.update(tokens)"
   ]
  },
  {
   "cell_type": "code",
   "execution_count": 130,
   "metadata": {},
   "outputs": [],
   "source": [
    "# save list to file\n",
    "def save_list(lines, filename):\n",
    "\tdata = '\\n'.join(lines)\n",
    "\tfile = open(filename, 'w')\n",
    "\tfile.write(data)\n",
    "\tfile.close()"
   ]
  },
  {
   "cell_type": "code",
   "execution_count": 131,
   "metadata": {},
   "outputs": [],
   "source": [
    "sageFiles = os.listdir(SAGE_WIKI_DIR)\n",
    "fields = [f.split('.')[0] for f in sageFiles]"
   ]
  },
  {
   "cell_type": "code",
   "execution_count": 132,
   "metadata": {},
   "outputs": [],
   "source": [
    "save_list(fields, 'sage_fields_wiki.txt')"
   ]
  },
  {
   "cell_type": "code",
   "execution_count": 133,
   "metadata": {},
   "outputs": [],
   "source": [
    "# define vocab\n",
    "vocab = Counter()\n",
    "for f in sageFiles:\n",
    "    add_doc_to_vocab(SAGE_WIKI_DIR+f, vocab)\n",
    "    \n",
    "tokens = [k for k,c in vocab.items()]\n",
    "save_list(tokens, 'sage_fields_wiki_vocab.txt')"
   ]
  },
  {
   "cell_type": "code",
   "execution_count": 134,
   "metadata": {},
   "outputs": [],
   "source": [
    "# load doc, clean and return line of tokens\n",
    "def field_to_line(file, vocab):\n",
    "\t# load the doc\n",
    "\tdoc = load_doc(SAGE_WIKI_DIR+file)\n",
    "\t# clean doc\n",
    "\ttokens = clean_doc(doc)\n",
    "\t# filter by vocab\n",
    "\ttokens = [w for w in tokens if w in vocab]\n",
    "\treturn ' '.join(tokens)"
   ]
  },
  {
   "cell_type": "code",
   "execution_count": 135,
   "metadata": {},
   "outputs": [],
   "source": [
    "fieldLines = []\n",
    "for f in sageFiles:\n",
    "    fieldLines.append(field_to_line(f, vocab))\n",
    "save_list(fieldLines, 'wiki_fields_lines.txt')"
   ]
  },
  {
   "cell_type": "code",
   "execution_count": 136,
   "metadata": {},
   "outputs": [],
   "source": [
    "# load doc, clean and return line of tokens\n",
    "def doc_to_line(filename, vocab):\n",
    "\t# load the doc\n",
    "\tdoc = load_doc(filename)\n",
    "\t# clean doc\n",
    "\ttokens = clean_doc(doc)\n",
    "\t# filter by vocab\n",
    "\ttokens = [w for w in tokens if w in vocab]\n",
    "\treturn ' '.join(tokens)"
   ]
  },
  {
   "cell_type": "code",
   "execution_count": 137,
   "metadata": {},
   "outputs": [],
   "source": [
    "# load all docs in a directory\n",
    "def process_docs_bow(files, vocab):\n",
    "    lines = list()\n",
    "    for f in files:\n",
    "        path = TEXT_DIRECTORY+f\n",
    "        line = doc_to_line(path, vocab)\n",
    "        lines.append(line)\n",
    "    return lines"
   ]
  },
  {
   "cell_type": "code",
   "execution_count": 138,
   "metadata": {},
   "outputs": [],
   "source": [
    "# prepare negative reviews\n",
    "processed_lines = process_docs_bow(files, vocab)\n",
    "save_list(processed_lines, 'wiki_sagefields_lines.txt')"
   ]
  },
  {
   "cell_type": "code",
   "execution_count": 139,
   "metadata": {},
   "outputs": [],
   "source": [
    "def getFieldsSimMatrix(field_lines,pub_lines):\n",
    "    # create the tokenizer\n",
    "    vectorizer = TfidfVectorizer(ngram_range=(1, 2))\n",
    "    # fit the tokenizer on the documents\n",
    "    fieldTokenizer = vectorizer.fit(field_lines)\n",
    "    # encode training data set\n",
    "    fieldsNgram = fieldTokenizer.transform(field_lines)\n",
    "    #print(fieldsNgram.shape)\n",
    "    # encode training data set\n",
    "    pubNgram = fieldTokenizer.transform(pub_lines)\n",
    "    #print(doc_bow.shape)\n",
    "    data_sim = cosine_similarity(pubNgram,fieldsNgram,dense_output=True)\n",
    "    #print(data_sim.shape)\n",
    "    #group_sim_scores = min_max_scale(data_sim.reshape(data_sim.shape[1]))\n",
    "    return data_sim"
   ]
  },
  {
   "cell_type": "code",
   "execution_count": 140,
   "metadata": {},
   "outputs": [],
   "source": [
    "sim = getFieldsSimMatrix(fieldLines,processed_lines)\n",
    "fieldLabels = [fields[np.argmax(c_s)] for c_s in sim]"
   ]
  },
  {
   "cell_type": "code",
   "execution_count": 141,
   "metadata": {},
   "outputs": [
    {
     "data": {
      "text/plain": [
       "['Community Medicine & Health Care',\n",
       " 'Community Medicine & Health Care',\n",
       " 'Economics',\n",
       " 'Race, Ethnicity & Migration',\n",
       " 'Nursing',\n",
       " 'Race, Ethnicity & Migration',\n",
       " 'Diseases & Epidemiology',\n",
       " 'Community Medicine & Health Care',\n",
       " 'American Government & Politics',\n",
       " 'Diseases & Epidemiology',\n",
       " 'Criminal Justice',\n",
       " 'Research Methods for Criminology & Criminal Justice',\n",
       " 'Social Psychology',\n",
       " 'Diseases & Epidemiology',\n",
       " 'Special & Inclusive Education']"
      ]
     },
     "execution_count": 141,
     "metadata": {},
     "output_type": "execute_result"
    }
   ],
   "source": [
    "fieldLabels"
   ]
  },
  {
   "cell_type": "code",
   "execution_count": 105,
   "metadata": {},
   "outputs": [
    {
     "data": {
      "text/plain": [
       "['Education : Research Methods for the Social Sciences',\n",
       " 'Health & Social Care : Physician Assistant',\n",
       " 'Politics & International Relations : Research Methods for Politics & International Relations',\n",
       " 'Psychology : Research Methods & Data Analysis in Psychology',\n",
       " 'Health & Social Care : Nursing',\n",
       " 'Sociology : Sociology of Religion',\n",
       " 'Education : Research Methods for the Social Sciences',\n",
       " 'Health & Social Care : Public Health',\n",
       " 'Education : Research Methods for Education',\n",
       " 'Health & Social Care : Diseases & Epidemiology',\n",
       " 'Criminology & Criminal Justice : General Criminology & Criminal Justice',\n",
       " 'Psychology : Research Methods & Data Analysis in Psychology',\n",
       " 'Psychology : Research Methods & Data Analysis in Psychology',\n",
       " 'Sociology : Area Studies',\n",
       " 'Education : School Counseling']"
      ]
     },
     "execution_count": 105,
     "metadata": {},
     "output_type": "execute_result"
    }
   ],
   "source": [
    "['Education : Research Methods for the Social Sciences', 'Health & Social Care : Physician Assistant', 'Politics & International Relations : Research Methods for Politics & International Relations', 'Psychology : Research Methods & Data Analysis in Psychology', 'Health & Social Care : Nursing', 'Sociology : Sociology of Religion', 'Education : Research Methods for the Social Sciences', 'Health & Social Care : Public Health', 'Education : Research Methods for Education', 'Health & Social Care : Diseases & Epidemiology', 'Criminology & Criminal Justice : General Criminology & Criminal Justice', 'Psychology : Research Methods & Data Analysis in Psychology', 'Psychology : Research Methods & Data Analysis in Psychology', 'Sociology : Area Studies', 'Education : School Counseling']"
   ]
  },
  {
   "cell_type": "code",
   "execution_count": 62,
   "metadata": {},
   "outputs": [
    {
     "data": {
      "text/plain": [
       "['315.txt',\n",
       " '1149.txt',\n",
       " '1492.txt',\n",
       " '1579.txt',\n",
       " '1737.txt',\n",
       " '1905.txt',\n",
       " '2009.txt',\n",
       " '2327.txt',\n",
       " '2573.txt',\n",
       " '2970.txt',\n",
       " '3343.txt',\n",
       " '3579.txt',\n",
       " '4014.txt',\n",
       " '5148.txt',\n",
       " '5400.txt']"
      ]
     },
     "execution_count": 62,
     "metadata": {},
     "output_type": "execute_result"
    }
   ],
   "source": [
    "files"
   ]
  },
  {
   "cell_type": "code",
   "execution_count": null,
   "metadata": {},
   "outputs": [],
   "source": []
  }
 ],
 "metadata": {
  "kernelspec": {
   "display_name": "Python 3",
   "language": "python",
   "name": "python3"
  },
  "language_info": {
   "codemirror_mode": {
    "name": "ipython",
    "version": 3
   },
   "file_extension": ".py",
   "mimetype": "text/x-python",
   "name": "python",
   "nbconvert_exporter": "python",
   "pygments_lexer": "ipython3",
   "version": "3.6.6"
  }
 },
 "nbformat": 4,
 "nbformat_minor": 2
}
